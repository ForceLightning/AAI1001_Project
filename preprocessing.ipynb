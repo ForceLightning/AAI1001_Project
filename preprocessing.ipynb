{
 "cells": [
  {
   "cell_type": "code",
   "execution_count": 1,
   "metadata": {},
   "outputs": [],
   "source": [
    "import os\n",
    "import sys\n",
    "\n",
    "import matplotlib.pyplot as plt\n",
    "import seaborn as sns\n",
    "import numpy as np\n",
    "import pandas as pd\n",
    "import wfdb\n",
    "from tqdm.auto import tqdm"
   ]
  },
  {
   "cell_type": "code",
   "execution_count": 2,
   "metadata": {},
   "outputs": [],
   "source": [
    "sns.set_context(\"notebook\")\n",
    "sns.set_style(\"whitegrid\")"
   ]
  },
  {
   "cell_type": "code",
   "execution_count": 3,
   "metadata": {},
   "outputs": [],
   "source": [
    "with open('./data/mit-bih-arrhythmia-database-1.0.0/RECORDS', \"r\") as f:\n",
    "    records = f.read().split(\"\\n\")"
   ]
  },
  {
   "cell_type": "code",
   "execution_count": 4,
   "metadata": {},
   "outputs": [],
   "source": [
    "ansi_map = {\n",
    "    \".\": \"N\",\n",
    "    \"N\": \"N\",\n",
    "    \"L\": \"N\",\n",
    "    \"R\": \"N\",\n",
    "    \"e\": \"N\",\n",
    "    \"j\": \"N\",\n",
    "    \"A\": \"S\",\n",
    "    \"J\": \"S\",\n",
    "    \"a\": \"S\",\n",
    "    \"S\": \"S\",\n",
    "    \"E\": \"V\",\n",
    "    \"V\": \"V\",\n",
    "    \"F\": \"F\",\n",
    "    \"/\": \"Q\",\n",
    "    \"f\": \"Q\",\n",
    "    \"Q\": \"Q\"\n",
    "}"
   ]
  },
  {
   "cell_type": "code",
   "execution_count": 5,
   "metadata": {},
   "outputs": [
    {
     "data": {
      "application/vnd.jupyter.widget-view+json": {
       "model_id": "ca60a9558fd848a5acd1c5d8e1f8ab08",
       "version_major": 2,
       "version_minor": 0
      },
      "text/plain": [
       "  0%|          | 0/48 [00:00<?, ?it/s]"
      ]
     },
     "metadata": {},
     "output_type": "display_data"
    }
   ],
   "source": [
    "heartbeat_data = [] # list of lists (by record) of heartbeats\n",
    "heartbeat_labels = [] # list of lists (by record) of labels\n",
    "for record_id in tqdm(records):\n",
    "    record = wfdb.rdrecord('./data/mit-bih-arrhythmia-database-1.0.0/' + record_id)\n",
    "    annotation = wfdb.rdann('./data/mit-bih-arrhythmia-database-1.0.0/' + record_id, 'atr')\n",
    "    heartbeats = []\n",
    "    labels = []\n",
    "    for (idx, hb_class) in zip(annotation.sample, annotation.symbol):\n",
    "        # Get +- 180 samples around the heartbeat\n",
    "        if hb_class not in ansi_map:\n",
    "            continue\n",
    "        try:\n",
    "            heartbeat = record.p_signal[idx - 180:idx + 180, 0] # only use first channel\n",
    "        except Exception:\n",
    "            continue\n",
    "        if len(heartbeat) != 360:\n",
    "            continue\n",
    "        heartbeats.append(heartbeat)\n",
    "        labels.append(ansi_map[hb_class])\n",
    "    heartbeat_data.append(heartbeats)\n",
    "    heartbeat_labels.append(labels)"
   ]
  },
  {
   "cell_type": "code",
   "execution_count": 28,
   "metadata": {},
   "outputs": [],
   "source": [
    "for (record_id, heartbeats, labels) in zip(records, heartbeat_data, heartbeat_labels):\n",
    "    np.savez_compressed('./data/heartbeats/' + record_id, heartbeats=heartbeats, labels=labels)"
   ]
  },
  {
   "cell_type": "code",
   "execution_count": 9,
   "metadata": {},
   "outputs": [
    {
     "name": "stdout",
     "output_type": "stream",
     "text": [
      "['heartbeats', 'labels']\n"
     ]
    }
   ],
   "source": [
    "npzfile = np.load('./data/heartbeats/100.npz')\n",
    "print(npzfile.files)"
   ]
  },
  {
   "cell_type": "code",
   "execution_count": 10,
   "metadata": {},
   "outputs": [
    {
     "data": {
      "text/plain": [
       "(2271, 360)"
      ]
     },
     "execution_count": 10,
     "metadata": {},
     "output_type": "execute_result"
    }
   ],
   "source": [
    "npzfile[\"heartbeats\"].shape"
   ]
  },
  {
   "cell_type": "code",
   "execution_count": 6,
   "metadata": {},
   "outputs": [
    {
     "data": {
      "application/vnd.jupyter.widget-view+json": {
       "model_id": "eee094574f9d4bee95c3dda5c2b99748",
       "version_major": 2,
       "version_minor": 0
      },
      "text/plain": [
       "  0%|          | 0/48 [00:00<?, ?it/s]"
      ]
     },
     "metadata": {},
     "output_type": "display_data"
    },
    {
     "data": {
      "application/vnd.jupyter.widget-view+json": {
       "model_id": "7d30fa83d73f474ebe4a04daa25f94fb",
       "version_major": 2,
       "version_minor": 0
      },
      "text/plain": [
       "  0%|          | 0/48 [00:00<?, ?it/s]"
      ]
     },
     "metadata": {},
     "output_type": "display_data"
    },
    {
     "data": {
      "text/plain": [
       "{'N': 90582, 'S': 2781, 'V': 7235, 'Q': 8038, 'F': 802}"
      ]
     },
     "execution_count": 6,
     "metadata": {},
     "output_type": "execute_result"
    }
   ],
   "source": [
    "# find the most average record by proportion of labels\n",
    "# (i.e. the record with the closest distribution of labels to the average)\n",
    "\n",
    "heartbeat_labels = {}\n",
    "for _, _, files in os.walk(\"./data/heartbeats/\"):\n",
    "    for file in tqdm(files):\n",
    "        npzfile = np.load('./data/heartbeats/' + file)\n",
    "        heartbeat_labels[file] = npzfile[\"labels\"]\n",
    "\n",
    "label_counts = {}\n",
    "for record_id in tqdm(heartbeat_labels):\n",
    "    for label in heartbeat_labels[record_id]:\n",
    "        if label not in label_counts:\n",
    "            label_counts[label] = 0\n",
    "        label_counts[label] += 1\n",
    "\n",
    "label_counts"
   ]
  },
  {
   "cell_type": "code",
   "execution_count": 7,
   "metadata": {},
   "outputs": [
    {
     "name": "stdout",
     "output_type": "stream",
     "text": [
      "N: 0.83\n",
      "S: 0.03\n",
      "V: 0.07\n",
      "Q: 0.07\n",
      "F: 0.01\n"
     ]
    }
   ],
   "source": [
    "for label, count in label_counts.items():\n",
    "    print(f\"{label}: {count / sum(label_counts.values()):.2f}\")"
   ]
  },
  {
   "cell_type": "code",
   "execution_count": 8,
   "metadata": {},
   "outputs": [],
   "source": [
    "label_proportions = {label: count / sum(label_counts.values()) for label, count in label_counts.items()}"
   ]
  },
  {
   "cell_type": "code",
   "execution_count": 6,
   "metadata": {},
   "outputs": [],
   "source": [
    "def weighted_distance_from_ratio(ratio, label_counts):\n",
    "    # ratio: target dict of label to proportion\n",
    "    # label_counts: dict of label in record to count\n",
    "    distance = 0\n",
    "    length = sum(label_counts.values())\n",
    "    label_ratios = {label: 0 for label in ratio.keys()}\n",
    "    label_ratios = {label: count / length for label, count in label_counts.items()}\n",
    "    for (label, prop) in ratio.items():\n",
    "        distance += abs(ratio[label] - label_ratios[label]) * prop\n",
    "    return distance"
   ]
  },
  {
   "cell_type": "code",
   "execution_count": 11,
   "metadata": {},
   "outputs": [
    {
     "data": {
      "text/plain": [
       "2271"
      ]
     },
     "execution_count": 11,
     "metadata": {},
     "output_type": "execute_result"
    }
   ],
   "source": [
    "len(heartbeat_labels[\"100.npz\"])"
   ]
  },
  {
   "cell_type": "code",
   "execution_count": 12,
   "metadata": {},
   "outputs": [
    {
     "data": {
      "text/plain": [
       "0"
      ]
     },
     "execution_count": 12,
     "metadata": {},
     "output_type": "execute_result"
    }
   ],
   "source": [
    "len(np.argwhere(heartbeat_labels[\"100.npz\"] == \"Q\"))"
   ]
  },
  {
   "cell_type": "code",
   "execution_count": 18,
   "metadata": {},
   "outputs": [
    {
     "data": {
      "application/vnd.jupyter.widget-view+json": {
       "model_id": "e09f4ea9971e4457b9f902323795541a",
       "version_major": 2,
       "version_minor": 0
      },
      "text/plain": [
       "  0%|          | 0/48 [00:00<?, ?it/s]"
      ]
     },
     "metadata": {},
     "output_type": "display_data"
    },
    {
     "name": "stdout",
     "output_type": "stream",
     "text": [
      "100.npz: 0.14\n",
      "101.npz: 0.15\n",
      "102.npz: 0.72\n",
      "103.npz: 0.15\n",
      "104.npz: 0.69\n",
      "105.npz: 0.14\n",
      "106.npz: 0.09\n",
      "107.npz: 0.75\n",
      "108.npz: 0.14\n",
      "109.npz: 0.14\n",
      "111.npz: 0.15\n",
      "112.npz: 0.15\n",
      "113.npz: 0.15\n",
      "114.npz: 0.13\n",
      "115.npz: 0.15\n",
      "116.npz: 0.11\n",
      "117.npz: 0.15\n",
      "118.npz: 0.11\n",
      "119.npz: 0.06\n",
      "121.npz: 0.15\n",
      "122.npz: 0.15\n",
      "123.npz: 0.15\n",
      "124.npz: 0.11\n",
      "200.npz: 0.15\n",
      "201.npz: 0.01\n",
      "202.npz: 0.12\n",
      "203.npz: 0.03\n",
      "205.npz: 0.12\n",
      "207.npz: 0.01\n",
      "208.npz: 0.27\n",
      "209.npz: 0.05\n",
      "210.npz: 0.08\n",
      "212.npz: 0.15\n",
      "213.npz: 0.02\n",
      "214.npz: 0.06\n",
      "215.npz: 0.11\n",
      "217.npz: 0.65\n",
      "219.npz: 0.12\n",
      "220.npz: 0.11\n",
      "221.npz: 0.02\n",
      "222.npz: 0.08\n",
      "223.npz: 0.05\n",
      "228.npz: 0.02\n",
      "230.npz: 0.15\n",
      "231.npz: 0.15\n",
      "232.npz: 0.53\n",
      "233.npz: 0.10\n",
      "234.npz: 0.14\n"
     ]
    },
    {
     "data": {
      "text/plain": [
       "[('207.npz', 0.010833268033605542),\n",
       " ('201.npz', 0.012993623019520626),\n",
       " ('228.npz', 0.01796498452300128),\n",
       " ('213.npz', 0.019479441519031762),\n",
       " ('221.npz', 0.020070627561252528),\n",
       " ('203.npz', 0.02876206925701876),\n",
       " ('223.npz', 0.04850211748994977),\n",
       " ('209.npz', 0.04919803344005147),\n",
       " ('214.npz', 0.056899493652572984),\n",
       " ('119.npz', 0.05883623558255227),\n",
       " ('210.npz', 0.07801000609475524),\n",
       " ('222.npz', 0.08419978248516223),\n",
       " ('106.npz', 0.08840739222456871),\n",
       " ('233.npz', 0.10496944765240229),\n",
       " ('124.npz', 0.10818710676626729),\n",
       " ('215.npz', 0.10845287958851486),\n",
       " ('118.npz', 0.11167910078004502),\n",
       " ('116.npz', 0.11231376903180557),\n",
       " ('220.npz', 0.11492501524572529),\n",
       " ('202.npz', 0.1227715602278828),\n",
       " ('219.npz', 0.12335919352425531),\n",
       " ('205.npz', 0.1247504453645146),\n",
       " ('114.npz', 0.12539600791194525),\n",
       " ('234.npz', 0.13660213182875514),\n",
       " ('105.npz', 0.1370763512046033),\n",
       " ('109.npz', 0.1389914196594744),\n",
       " ('100.npz', 0.14028616573148997),\n",
       " ('108.npz', 0.1415682415887285),\n",
       " ('113.npz', 0.15022155427853845),\n",
       " ('101.npz', 0.15073643207562282),\n",
       " ('123.npz', 0.1513087755808605),\n",
       " ('231.npz', 0.15139436869184916),\n",
       " ('121.npz', 0.152137664503963),\n",
       " ('103.npz', 0.15225724721157116),\n",
       " ('112.npz', 0.1524038299267698),\n",
       " ('117.npz', 0.15252023056053074),\n",
       " ('111.npz', 0.152655551469188),\n",
       " ('230.npz', 0.15267999795446352),\n",
       " ('200.npz', 0.15295720867586055),\n",
       " ('115.npz', 0.15307636692183318),\n",
       " ('122.npz', 0.15307636692183318),\n",
       " ('212.npz', 0.15307636692183318),\n",
       " ('208.npz', 0.2655081503320216),\n",
       " ('232.npz', 0.528922354000559),\n",
       " ('217.npz', 0.6493501564509243),\n",
       " ('104.npz', 0.6921304088192923),\n",
       " ('102.npz', 0.7171276501602437),\n",
       " ('107.npz', 0.7543584044237523)]"
      ]
     },
     "execution_count": 18,
     "metadata": {},
     "output_type": "execute_result"
    }
   ],
   "source": [
    "distances = {}\n",
    "for record_id in tqdm(heartbeat_labels):\n",
    "    record_counts = {label: len(np.argwhere(heartbeat_labels[record_id] == label)) for label in label_counts.keys()}\n",
    "    distance = weighted_distance_from_ratio(label_proportions, record_counts)\n",
    "    print(f\"{record_id}: {distance:.2f}\")\n",
    "    distances[record_id] = distance\n",
    "\n",
    "# sort by distance\n",
    "sorted(distances.items(), key=lambda x: x[1])"
   ]
  },
  {
   "cell_type": "markdown",
   "metadata": {},
   "source": [
    "Here we manually select a test dataset with samples that have a similar distribution to the mean distribution. We refer to [https://archive.physionet.org/physiobank/database/html/mitdbdir/records.htm](https://archive.physionet.org/physiobank/database/html/mitdbdir/records.htm) to determine whether the record is suitable. 10% of the dataset would be 4.8 samples, so we select 5 samples for the test set."
   ]
  },
  {
   "cell_type": "code",
   "execution_count": 19,
   "metadata": {},
   "outputs": [
    {
     "data": {
      "text/plain": [
       "4.800000000000001"
      ]
     },
     "execution_count": 19,
     "metadata": {},
     "output_type": "execute_result"
    }
   ],
   "source": [
    "len(heartbeat_labels) * 0.1"
   ]
  },
  {
   "cell_type": "markdown",
   "metadata": {},
   "source": [
    "- 207: Not suitable\n",
    "- 201: Suitable\n",
    "- 228: Suitable\n",
    "- 213: Suitable\n",
    "- 221: Suitable\n",
    "- 203: Not suitable\n",
    "- 223: Suitable"
   ]
  },
  {
   "cell_type": "code",
   "execution_count": 12,
   "metadata": {},
   "outputs": [],
   "source": [
    "import shutil"
   ]
  },
  {
   "cell_type": "code",
   "execution_count": 33,
   "metadata": {},
   "outputs": [
    {
     "data": {
      "text/plain": [
       "['100.npz',\n",
       " '101.npz',\n",
       " '102.npz',\n",
       " '103.npz',\n",
       " '104.npz',\n",
       " '105.npz',\n",
       " '106.npz',\n",
       " '107.npz',\n",
       " '108.npz',\n",
       " '109.npz',\n",
       " '111.npz',\n",
       " '112.npz',\n",
       " '113.npz',\n",
       " '114.npz',\n",
       " '115.npz',\n",
       " '116.npz',\n",
       " '117.npz',\n",
       " '118.npz',\n",
       " '119.npz',\n",
       " '121.npz',\n",
       " '122.npz',\n",
       " '123.npz',\n",
       " '124.npz',\n",
       " '200.npz',\n",
       " '201.npz',\n",
       " '202.npz',\n",
       " '203.npz',\n",
       " '205.npz',\n",
       " '207.npz',\n",
       " '208.npz',\n",
       " '209.npz',\n",
       " '210.npz',\n",
       " '212.npz',\n",
       " '213.npz',\n",
       " '214.npz',\n",
       " '215.npz',\n",
       " '217.npz',\n",
       " '219.npz',\n",
       " '220.npz',\n",
       " '221.npz',\n",
       " '222.npz',\n",
       " '223.npz',\n",
       " '228.npz',\n",
       " '230.npz',\n",
       " '231.npz',\n",
       " '232.npz',\n",
       " '233.npz',\n",
       " '234.npz']"
      ]
     },
     "execution_count": 33,
     "metadata": {},
     "output_type": "execute_result"
    }
   ],
   "source": [
    "[record_id for record_id in distances.keys()]"
   ]
  },
  {
   "cell_type": "code",
   "execution_count": 35,
   "metadata": {},
   "outputs": [
    {
     "data": {
      "application/vnd.jupyter.widget-view+json": {
       "model_id": "ee1e924e678c44189d8e0561982d26ba",
       "version_major": 2,
       "version_minor": 0
      },
      "text/plain": [
       "  0%|          | 0/48 [00:00<?, ?it/s]"
      ]
     },
     "metadata": {},
     "output_type": "display_data"
    }
   ],
   "source": [
    "test_records = [\"201\", \"228\", \"213\", \"221\", \"223\"]\n",
    "test_records = [record + \".npz\" for record in test_records]\n",
    "if not os.path.exists(\"./data/heartbeats_train/\"):\n",
    "    os.makedirs(\"./data/heartbeats_train/\")\n",
    "if not os.path.exists(\"./data/heartbeats_test/\"):\n",
    "    os.makedirs(\"./data/heartbeats_test/\")\n",
    "for record_id in tqdm(distances.keys()):\n",
    "    if record_id in test_records:\n",
    "        # copy to test\n",
    "        shutil.copy(\"./data/heartbeats/\" + record_id, \"./data/heartbeats_test/\" + record_id)\n",
    "    else:\n",
    "        # copy to train\n",
    "        shutil.copy(\"./data/heartbeats/\" + record_id, \"./data/heartbeats_train/\" + record_id)"
   ]
  },
  {
   "cell_type": "code",
   "execution_count": 9,
   "metadata": {},
   "outputs": [],
   "source": [
    "from sklearn.model_selection import train_test_split"
   ]
  },
  {
   "cell_type": "code",
   "execution_count": 10,
   "metadata": {},
   "outputs": [],
   "source": [
    "train_records, test_records = train_test_split(records, test_size=0.5, random_state=42)"
   ]
  },
  {
   "cell_type": "code",
   "execution_count": 14,
   "metadata": {},
   "outputs": [
    {
     "data": {
      "application/vnd.jupyter.widget-view+json": {
       "model_id": "3d68dcddc1ce49eb807f0751814a928f",
       "version_major": 2,
       "version_minor": 0
      },
      "text/plain": [
       "  0%|          | 0/48 [00:00<?, ?it/s]"
      ]
     },
     "metadata": {},
     "output_type": "display_data"
    }
   ],
   "source": [
    "if not os.path.exists(\"./data/heartbeats_evensplit_train/\"):\n",
    "    os.makedirs(\"./data/heartbeats_evensplit_train/\")\n",
    "    \n",
    "if not os.path.exists(\"./data/heartbeats_evensplit_test/\"):\n",
    "    os.makedirs(\"./data/heartbeats_evensplit_test/\")\n",
    "\n",
    "for record_id in tqdm(records):\n",
    "    if record_id in test_records:\n",
    "        # copy to test\n",
    "        shutil.copy(\"./data/heartbeats/\" + record_id + \".npz\", \"./data/heartbeats_evensplit_test/\" + record_id + \".npz\")\n",
    "    else:\n",
    "        # copy to train\n",
    "        shutil.copy(\"./data/heartbeats/\" + record_id + \".npz\", \"./data/heartbeats_evensplit_train/\" + record_id + \".npz\")"
   ]
  },
  {
   "cell_type": "markdown",
   "metadata": {},
   "source": [
    "Dataset + Dataloaders"
   ]
  },
  {
   "cell_type": "code",
   "execution_count": 5,
   "metadata": {},
   "outputs": [],
   "source": [
    "import torch\n",
    "from torch.utils.data import Dataset"
   ]
  },
  {
   "cell_type": "code",
   "execution_count": 6,
   "metadata": {},
   "outputs": [],
   "source": [
    "class ECGDataset(Dataset):\n",
    "    def __init__(self, data_dir, item_transform=None, target_transform=None) -> None:\n",
    "        self.data_dir = data_dir\n",
    "        self.lengths = {}\n",
    "        self.item_transform = item_transform\n",
    "        self.target_transform = target_transform\n",
    "        for _, _, files in os.walk(data_dir):\n",
    "            for file in files:\n",
    "                npzfile = np.load(data_dir + file)\n",
    "                self.lengths[file] = len(npzfile[\"labels\"])\n",
    "        \n",
    "    def __len__(self) -> int:\n",
    "        return sum(self.lengths.values())\n",
    "    \n",
    "    def __getitem__(self, idx):\n",
    "        running_count = 0\n",
    "        assert idx < self.__len__() # make sure we're not out of bounds\n",
    "        for file, length in self.lengths.items():\n",
    "            if idx < running_count + length:\n",
    "                npzfile = np.load(self.data_dir + file)\n",
    "                hb = npzfile[\"heartbeats\"][idx - running_count]\n",
    "                label = npzfile[\"labels\"][idx - running_count]\n",
    "                if self.item_transform:\n",
    "                    hb = self.item_transform(hb)\n",
    "                if self.target_transform:\n",
    "                    label = self.target_transform(label)\n",
    "                return hb, label\n",
    "            else:\n",
    "                running_count += length\n",
    "        # should never get here\n",
    "        raise IndexError(\"Index out of bounds\")"
   ]
  },
  {
   "cell_type": "code",
   "execution_count": 15,
   "metadata": {},
   "outputs": [
    {
     "data": {
      "text/plain": [
       "<Axes: >"
      ]
     },
     "execution_count": 15,
     "metadata": {},
     "output_type": "execute_result"
    },
    {
     "data": {
      "image/png": "[encoded data removed]",
      "text/plain": [
       "<Figure size 640x480 with 1 Axes>"
      ]
     },
     "metadata": {},
     "output_type": "display_data"
    }
   ],
   "source": [
    "fft_hb = np.fft.fft(npzfile[\"heartbeats\"][0])\n",
    "fft_hb = np.fft.fftshift(fft_hb)\n",
    "sns.lineplot(x=np.arange(-180, 180), y=np.abs(fft_hb))"
   ]
  },
  {
   "cell_type": "code",
   "execution_count": 20,
   "metadata": {},
   "outputs": [
    {
     "data": {
      "text/plain": [
       "<Axes: >"
      ]
     },
     "execution_count": 20,
     "metadata": {},
     "output_type": "execute_result"
    },
    {
     "data": {
      "image/png": "[encoded data removed]",
      "text/plain": [
       "<Figure size 640x480 with 1 Axes>"
      ]
     },
     "metadata": {},
     "output_type": "display_data"
    }
   ],
   "source": [
    "def one_hot_encode(label):\n",
    "    possible_labels = [\"N\", \"S\", \"V\", \"F\", \"Q\"]\n",
    "    # one hot encoding\n",
    "    return torch.zeros(len(possible_labels)).scatter_(\n",
    "        dim=0,\n",
    "        index=torch.tensor(possible_labels.index(label)),\n",
    "        value=1\n",
    "    )\n",
    "\n",
    "noise_frequencies = {\n",
    "    \"breathing\": ([1/18, 1/12], [1/5, 1/3]) # breathing rate and impact\n",
    "}\n",
    "\n",
    "def noise_at_frequencies(hb, frequencies_distribution, fs=360):\n",
    "    # hb: input heartbeat\n",
    "    # frequencies_distribution: distribution of frequencies to add noise at\n",
    "    # returns: hb with noise added at frequency\n",
    "    \n",
    "    # generate sinusoid noise with random phase and amplitude from the distribution\n",
    "    noise = np.zeros(hb.shape)\n",
    "    for (source, (freq_range, amp_range)) in frequencies_distribution.items():\n",
    "        freq = np.random.uniform(freq_range[0], freq_range[1])\n",
    "        amp = np.random.uniform(amp_range[0], amp_range[1])\n",
    "        phase = np.random.uniform(0, 2 * np.pi)\n",
    "        noise += amp * np.sin(2 * np.pi * freq * 1/fs + phase)\n",
    "    return hb + noise\n",
    "\n",
    "ax = sns.lineplot(x=np.arange(0, 360), y=noise_at_frequencies(npzfile[\"heartbeats\"][0], noise_frequencies))\n",
    "sns.lineplot(x=np.arange(0, 360), y=npzfile[\"heartbeats\"][0], ax=ax)"
   ]
  },
  {
   "cell_type": "code",
   "execution_count": 31,
   "metadata": {},
   "outputs": [],
   "source": [
    "def noise_at_frequencies_tensor(hb, frequencies_distribution, fs=360):\n",
    "    # hb: input heartbeat\n",
    "    # frequencies_distribution: distribution of frequencies to add noise at\n",
    "    # returns: hb with noise added at frequency\n",
    "    \n",
    "    # generate sinusoid noise with random phase and amplitude from the distribution\n",
    "    noise = torch.zeros(hb.shape)\n",
    "    for (source, (freq_range, amp_range)) in frequencies_distribution.items():\n",
    "        freq = torch.distributions.uniform.Uniform(freq_range[0], freq_range[1]).sample()\n",
    "        amp = torch.distributions.uniform.Uniform(amp_range[0], amp_range[1]).sample()\n",
    "        phase = torch.distributions.uniform.Uniform(0, 2 * torch.pi).sample()\n",
    "        noise += amp * torch.sin(2 * torch.pi * freq * 1/fs + phase)\n",
    "    return hb.add(noise)\n",
    "\n",
    "def z_normalise(hb):\n",
    "    return (hb - hb.mean()) / hb.std()\n",
    "\n",
    "def hb_transform(hb):\n",
    "    hb = torch.from_numpy(hb)\n",
    "    hb = noise_at_frequencies_tensor(hb, noise_frequencies)\n",
    "    hb = z_normalise(hb)\n",
    "    return hb"
   ]
  },
  {
   "cell_type": "code",
   "execution_count": 32,
   "metadata": {},
   "outputs": [],
   "source": [
    "train_set = ECGDataset(\"./data/heartbeats_train/\", item_transform=hb_transform, target_transform=one_hot_encode)"
   ]
  },
  {
   "cell_type": "code",
   "execution_count": 36,
   "metadata": {},
   "outputs": [
    {
     "data": {
      "text/plain": [
       "(tensor([-1.4884e-01, -1.7836e-01, -3.0752e-02,  5.7814e-02,  5.7814e-02,\n",
       "          1.1686e-01,  8.7335e-02,  1.1686e-01,  1.4638e-01,  2.0542e-01,\n",
       "          3.2351e-01,  3.5303e-01,  3.5303e-01,  2.6447e-01,  3.2351e-01,\n",
       "          3.8255e-01,  4.7112e-01,  3.8255e-01,  3.8255e-01,  3.2351e-01,\n",
       "          3.2351e-01,  4.1207e-01,  3.5303e-01,  3.2351e-01,  3.8255e-01,\n",
       "          3.2351e-01,  3.5303e-01,  3.5303e-01,  2.6447e-01,  2.9399e-01,\n",
       "          2.9399e-01,  2.6447e-01,  2.3494e-01,  2.6447e-01,  2.9399e-01,\n",
       "          2.0542e-01,  1.7590e-01,  1.1686e-01,  2.0542e-01,  2.3494e-01,\n",
       "          2.9399e-01,  1.7590e-01,  1.7590e-01,  1.4638e-01,  2.0542e-01,\n",
       "          2.0542e-01,  2.6447e-01,  2.3494e-01,  1.4638e-01,  1.1686e-01,\n",
       "          1.7590e-01,  2.0542e-01,  1.4638e-01,  1.7590e-01,  5.7814e-02,\n",
       "          5.7814e-02,  2.8292e-02,  8.7335e-02,  5.7814e-02, -1.2301e-03,\n",
       "         -1.2301e-03,  2.8292e-02,  8.7335e-02,  1.4638e-01,  1.4638e-01,\n",
       "          1.1686e-01,  8.7335e-02, -1.2301e-03,  1.1686e-01,  8.7335e-02,\n",
       "          5.7814e-02,  2.8292e-02, -1.2301e-03, -8.9795e-02, -1.2301e-03,\n",
       "          5.7814e-02,  1.1686e-01, -1.2301e-03, -8.9795e-02, -1.1932e-01,\n",
       "         -3.0752e-02,  5.7814e-02,  2.8292e-02, -1.2301e-03, -6.0274e-02,\n",
       "         -1.1932e-01, -8.9795e-02, -3.0752e-02, -1.2301e-03,  2.8292e-02,\n",
       "          2.8292e-02, -1.2301e-03,  5.7814e-02,  2.8292e-02,  1.1686e-01,\n",
       "          5.7814e-02,  5.7814e-02,  2.8292e-02,  2.8292e-02,  1.1686e-01,\n",
       "          1.7590e-01,  8.7335e-02,  2.8292e-02, -3.0752e-02,  2.8292e-02,\n",
       "          8.7335e-02,  1.1686e-01,  1.7590e-01,  2.3494e-01,  2.0542e-01,\n",
       "          2.0542e-01,  2.3494e-01,  3.5303e-01,  3.5303e-01,  3.2351e-01,\n",
       "          5.0064e-01,  5.3016e-01,  6.1873e-01,  6.4825e-01,  6.1873e-01,\n",
       "          5.5968e-01,  4.7112e-01,  5.3016e-01,  5.0064e-01,  5.0064e-01,\n",
       "          5.0064e-01,  4.7112e-01,  4.4160e-01,  4.1207e-01,  4.4160e-01,\n",
       "          5.3016e-01,  5.8921e-01,  6.1873e-01,  3.8255e-01,  1.4638e-01,\n",
       "          1.4638e-01,  5.7814e-02, -1.2301e-03, -1.1932e-01, -1.1932e-01,\n",
       "         -8.9795e-02, -3.0752e-02, -6.0274e-02, -3.0752e-02, -8.9795e-02,\n",
       "         -1.7836e-01, -2.0788e-01, -1.7836e-01, -1.7836e-01, -2.3740e-01,\n",
       "         -2.0788e-01, -2.6693e-01, -1.1932e-01, -1.4884e-01, -1.1932e-01,\n",
       "         -6.0274e-02, -2.0788e-01, -2.6693e-01, -1.7836e-01, -1.1932e-01,\n",
       "         -8.9795e-02, -1.1932e-01, -2.3740e-01, -3.2597e-01, -2.9645e-01,\n",
       "         -4.1454e-01, -6.8023e-01, -7.9832e-01, -9.7545e-01, -1.1821e+00,\n",
       "         -1.3297e+00, -1.1526e+00, -6.2119e-01,  5.7814e-02,  8.8442e-01,\n",
       "          1.7406e+00,  3.2166e+00,  4.7223e+00,  6.0803e+00,  6.9954e+00,\n",
       "          7.3792e+00,  7.1726e+00,  6.2869e+00,  4.7223e+00,  2.8033e+00,\n",
       "          1.1796e+00,  2.3494e-01, -4.7358e-01, -8.2784e-01, -9.7545e-01,\n",
       "         -8.5736e-01, -6.8023e-01, -4.7358e-01, -4.7358e-01, -4.4406e-01,\n",
       "         -4.7358e-01, -4.1454e-01, -4.1454e-01, -4.1454e-01, -5.0310e-01,\n",
       "         -4.4406e-01, -4.4406e-01, -4.4406e-01, -3.8501e-01, -5.0310e-01,\n",
       "         -5.9167e-01, -5.9167e-01, -5.3262e-01, -5.0310e-01, -4.7358e-01,\n",
       "         -5.6214e-01, -5.0310e-01, -4.4406e-01, -3.8501e-01, -4.7358e-01,\n",
       "         -4.7358e-01, -5.6214e-01, -5.9167e-01, -5.9167e-01, -4.7358e-01,\n",
       "         -4.7358e-01, -5.0310e-01, -5.6214e-01, -6.2119e-01, -5.3262e-01,\n",
       "         -5.9167e-01, -5.6214e-01, -5.9167e-01, -6.2119e-01, -5.9167e-01,\n",
       "         -5.3262e-01, -5.3262e-01, -5.0310e-01, -4.7358e-01, -5.6214e-01,\n",
       "         -5.9167e-01, -4.7358e-01, -4.7358e-01, -4.4406e-01, -4.4406e-01,\n",
       "         -5.9167e-01, -5.6214e-01, -5.0310e-01, -4.7358e-01, -3.8501e-01,\n",
       "         -4.7358e-01, -5.0310e-01, -5.9167e-01, -5.3262e-01, -4.7358e-01,\n",
       "         -4.7358e-01, -4.4406e-01, -5.6214e-01, -6.2119e-01, -6.2119e-01,\n",
       "         -5.3262e-01, -5.0310e-01, -5.6214e-01, -6.2119e-01, -6.5071e-01,\n",
       "         -6.5071e-01, -5.9167e-01, -6.2119e-01, -6.8023e-01, -6.5071e-01,\n",
       "         -7.3927e-01, -7.0975e-01, -7.0975e-01, -6.5071e-01, -7.0975e-01,\n",
       "         -8.2784e-01, -8.5736e-01, -8.2784e-01, -7.3927e-01, -7.9832e-01,\n",
       "         -8.2784e-01, -8.5736e-01, -9.4593e-01, -8.8688e-01, -8.5736e-01,\n",
       "         -8.2784e-01, -8.5736e-01, -9.4593e-01, -9.7545e-01, -8.8688e-01,\n",
       "         -8.2784e-01, -7.9832e-01, -7.6880e-01, -7.3927e-01, -7.6880e-01,\n",
       "         -5.9167e-01, -5.0310e-01, -3.5549e-01, -3.2597e-01, -2.9645e-01,\n",
       "         -3.2597e-01, -1.7836e-01, -8.9795e-02, -3.0752e-02, -6.0274e-02,\n",
       "         -1.1932e-01, -1.1932e-01, -6.0274e-02, -1.2301e-03,  5.7814e-02,\n",
       "          5.7814e-02, -6.0274e-02, -6.0274e-02, -3.0752e-02,  2.8292e-02,\n",
       "          2.8292e-02,  8.7335e-02, -6.0274e-02, -1.1932e-01,  2.8292e-02,\n",
       "         -1.2301e-03,  5.7814e-02,  5.7814e-02, -6.0274e-02, -8.9795e-02,\n",
       "         -1.2301e-03,  2.8292e-02, -3.0752e-02,  2.8292e-02, -3.0752e-02,\n",
       "         -3.0752e-02, -1.2301e-03,  8.7335e-02,  1.1686e-01,  2.8292e-02,\n",
       "         -1.2301e-03, -6.0274e-02, -3.0752e-02,  5.7814e-02, -3.0752e-02,\n",
       "         -3.0752e-02, -3.0752e-02, -1.1932e-01, -3.0752e-02, -6.0274e-02,\n",
       "         -3.0752e-02, -8.9795e-02, -1.4884e-01, -1.7836e-01, -1.4884e-01,\n",
       "         -1.4884e-01, -1.1932e-01, -8.9795e-02, -2.0788e-01, -2.3740e-01,\n",
       "         -2.0788e-01, -1.4884e-01, -1.1932e-01, -1.1932e-01, -2.0788e-01,\n",
       "         -2.0788e-01, -2.0788e-01, -6.0274e-02, -1.1932e-01, -1.4884e-01],\n",
       "        dtype=torch.float64),\n",
       " tensor([1., 0., 0., 0., 0.]))"
      ]
     },
     "execution_count": 36,
     "metadata": {},
     "output_type": "execute_result"
    }
   ],
   "source": [
    "train_set[0]"
   ]
  },
  {
   "cell_type": "code",
   "execution_count": null,
   "metadata": {},
   "outputs": [],
   "source": []
  }
 ],
 "metadata": {
  "kernelspec": {
   "display_name": "AAI1001-GKVhCZq-",
   "language": "python",
   "name": "python3"
  },
  "language_info": {
   "codemirror_mode": {
    "name": "ipython",
    "version": 3
   },
   "file_extension": ".py",
   "mimetype": "text/x-python",
   "name": "python",
   "nbconvert_exporter": "python",
   "pygments_lexer": "ipython3",
   "version": "3.9.13"
  },
  "orig_nbformat": 4
 },
 "nbformat": 4,
 "nbformat_minor": 2
}
