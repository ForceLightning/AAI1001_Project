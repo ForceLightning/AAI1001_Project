{
 "cells": [
  {
   "cell_type": "code",
   "execution_count": 15,
   "metadata": {},
   "outputs": [],
   "source": [
    "import os\n",
    "import sys\n",
    "\n",
    "import matplotlib.pyplot as plt\n",
    "import numpy as np\n",
    "import pandas as pd\n",
    "import wfdb\n",
    "from tqdm.auto import tqdm"
   ]
  },
  {
   "cell_type": "code",
   "execution_count": 10,
   "metadata": {},
   "outputs": [],
   "source": [
    "with open('./data/mit-bih-arrhythmia-database-1.0.0/RECORDS', \"r\") as f:\n",
    "    records = f.read().split(\"\\n\")"
   ]
  },
  {
   "cell_type": "code",
   "execution_count": 6,
   "metadata": {},
   "outputs": [],
   "source": [
    "ansi_map = {\n",
    "    \".\": \"N\",\n",
    "    \"N\": \"N\",\n",
    "    \"L\": \"N\",\n",
    "    \"R\": \"N\",\n",
    "    \"e\": \"N\",\n",
    "    \"j\": \"N\",\n",
    "    \"A\": \"S\",\n",
    "    \"J\": \"S\",\n",
    "    \"a\": \"S\",\n",
    "    \"S\": \"S\",\n",
    "    \"E\": \"V\",\n",
    "    \"V\": \"V\",\n",
    "    \"F\": \"F\",\n",
    "    \"/\": \"Q\",\n",
    "    \"f\": \"Q\",\n",
    "    \"Q\": \"Q\"\n",
    "}"
   ]
  },
  {
   "cell_type": "code",
   "execution_count": 22,
   "metadata": {},
   "outputs": [
    {
     "data": {
      "application/vnd.jupyter.widget-view+json": {
       "model_id": "d65e3492e1c847b7891e342d5efa278d",
       "version_major": 2,
       "version_minor": 0
      },
      "text/plain": [
       "  0%|          | 0/48 [00:00<?, ?it/s]"
      ]
     },
     "metadata": {},
     "output_type": "display_data"
    }
   ],
   "source": [
    "heartbeat_data = [] # list of lists (by record) of heartbeats\n",
    "heartbeat_labels = [] # list of lists (by record) of labels\n",
    "for record_id in tqdm(records):\n",
    "    record = wfdb.rdrecord('./data/mit-bih-arrhythmia-database-1.0.0/' + record_id)\n",
    "    annotation = wfdb.rdann('./data/mit-bih-arrhythmia-database-1.0.0/' + record_id, 'atr')\n",
    "    heartbeats = []\n",
    "    labels = []\n",
    "    for (idx, hb_class) in zip(annotation.sample, annotation.symbol):\n",
    "        # Get +- 180 samples around the heartbeat\n",
    "        if hb_class not in ansi_map:\n",
    "            continue\n",
    "        try:\n",
    "            heartbeat = record.p_signal[idx - 180:idx + 180, 0] # only use first channel\n",
    "        except Exception:\n",
    "            continue\n",
    "        if len(heartbeat) != 360:\n",
    "            continue\n",
    "        heartbeats.append(heartbeat)\n",
    "        labels.append(ansi_map[hb_class])\n",
    "    heartbeat_data.append(heartbeats)\n",
    "    heartbeat_labels.append(labels)"
   ]
  },
  {
   "cell_type": "code",
   "execution_count": 23,
   "metadata": {},
   "outputs": [],
   "source": [
    "for (record_id, heartbeats, labels) in zip(records, heartbeat_data, heartbeat_labels):\n",
    "    np.savez_compressed('./data/heartbeats/' + record_id, heartbeats=heartbeats, labels=labels)"
   ]
  },
  {
   "cell_type": "code",
   "execution_count": 24,
   "metadata": {},
   "outputs": [
    {
     "name": "stdout",
     "output_type": "stream",
     "text": [
      "['heartbeats', 'labels']\n"
     ]
    }
   ],
   "source": [
    "npzfile = np.load('./data/heartbeats/100.npz')\n",
    "print(npzfile.files)"
   ]
  },
  {
   "cell_type": "code",
   "execution_count": 25,
   "metadata": {},
   "outputs": [
    {
     "data": {
      "text/plain": [
       "(2271, 360)"
      ]
     },
     "execution_count": 25,
     "metadata": {},
     "output_type": "execute_result"
    }
   ],
   "source": [
    "npzfile[\"heartbeats\"].shape"
   ]
  },
  {
   "cell_type": "code",
   "execution_count": null,
   "metadata": {},
   "outputs": [],
   "source": []
  }
 ],
 "metadata": {
  "kernelspec": {
   "display_name": "AAI1001-GKVhCZq-",
   "language": "python",
   "name": "python3"
  },
  "language_info": {
   "codemirror_mode": {
    "name": "ipython",
    "version": 3
   },
   "file_extension": ".py",
   "mimetype": "text/x-python",
   "name": "python",
   "nbconvert_exporter": "python",
   "pygments_lexer": "ipython3",
   "version": "3.9.13"
  },
  "orig_nbformat": 4
 },
 "nbformat": 4,
 "nbformat_minor": 2
}
